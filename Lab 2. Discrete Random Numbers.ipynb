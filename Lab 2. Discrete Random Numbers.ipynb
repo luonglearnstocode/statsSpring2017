{
 "cells": [
  {
   "cell_type": "markdown",
   "metadata": {},
   "source": [
    "# Lab 2. Discrete Random Numbers\n",
    "\n",
    "Probability and Statistics, Spring 2017   \n",
    "\n",
    "[CC BY-NC-SA](https://creativecommons.org/licenses/by-nc-sa/3.0/), Sakari Lukkarinen   \n",
    "Helsinki Metropolia University of Applied Sciences   \n",
    "\n",
    "Based on \n",
    "\n",
    "- Johansson, (2015). Numerical Python. [Chapter 13: Statistics](https://link-springer-com.ezproxy.metropolia.fi/chapter/10.1007/978-1-4842-0553-2_13) (See Random Numbers)\n",
    "- Numpy package: [Random Sampling](http://docs.scipy.org/doc/numpy/reference/routines.random.html)"
   ]
  },
  {
   "cell_type": "markdown",
   "metadata": {},
   "source": [
    "We start by reading the most important libraries to Python. Write here the most important **magic** code that imports the most common libraries and uses inline graphics."
   ]
  },
  {
   "cell_type": "code",
   "execution_count": 2,
   "metadata": {
    "collapsed": false
   },
   "outputs": [
    {
     "name": "stdout",
     "output_type": "stream",
     "text": [
      "Populating the interactive namespace from numpy and matplotlib\n"
     ]
    }
   ],
   "source": [
    "%pylab inline"
   ]
  },
  {
   "cell_type": "markdown",
   "metadata": {},
   "source": [
    "Numpy's random library contains the common random generators. Write here `import numpy.random as rnd`. If you uncertain what does this do, read more [how to import modules into Python](https://docs.python.org/3/tutorial/modules.html)."
   ]
  },
  {
   "cell_type": "code",
   "execution_count": 3,
   "metadata": {
    "collapsed": true
   },
   "outputs": [],
   "source": [
    "import numpy.random as rnd"
   ]
  },
  {
   "cell_type": "markdown",
   "metadata": {},
   "source": [
    "Integer valued random numbers can be generated with function `randint(N)`, where `N` gives the upper limit of the numbers. For example `rnd.randint(10)` generates a random integer between 0 and 9. Try that code here."
   ]
  },
  {
   "cell_type": "code",
   "execution_count": 4,
   "metadata": {
    "collapsed": false
   },
   "outputs": [
    {
     "data": {
      "text/plain": [
       "8"
      ]
     },
     "execution_count": 4,
     "metadata": {},
     "output_type": "execute_result"
    }
   ],
   "source": [
    "rnd.randint(10)"
   ]
  },
  {
   "cell_type": "markdown",
   "metadata": {},
   "source": [
    "We can generate several random numbers using a for loop and print them out, like:\n",
    "\n",
    "    for i in range(10):\n",
    "        print(rnd.randint(10), \" \", end=\" \")\n",
    "        \n",
    "Try that here."
   ]
  },
  {
   "cell_type": "code",
   "execution_count": 5,
   "metadata": {
    "collapsed": false
   },
   "outputs": [
    {
     "name": "stdout",
     "output_type": "stream",
     "text": [
      "5   2   1   0   0   9   4   5   2   0   "
     ]
    }
   ],
   "source": [
    "for i in range(10):\n",
    "    print(rnd.randint(10), \" \", end=\" \")"
   ]
  },
  {
   "cell_type": "markdown",
   "metadata": {},
   "source": [
    "Or second way is to create a list using a for loop:\n",
    "\n",
    "    x = [rnd.randint(10) for i in range(10)]\n",
    "    x\n",
    "\n",
    "That's a very handy tool way to create numerical lists in standard Python. Try that here."
   ]
  },
  {
   "cell_type": "code",
   "execution_count": 6,
   "metadata": {
    "collapsed": false
   },
   "outputs": [
    {
     "data": {
      "text/plain": [
       "[5, 7, 9, 7, 5, 1, 2, 3, 2, 1]"
      ]
     },
     "execution_count": 6,
     "metadata": {},
     "output_type": "execute_result"
    }
   ],
   "source": [
    "x = [rnd.randint(10) for i in range(10)]\n",
    "x"
   ]
  },
  {
   "cell_type": "markdown",
   "metadata": {},
   "source": [
    "However, the most efficient way is to create arrays. Then you need to specify the `low`, `high`, and `size` parameters for `randint()` function. Study the documentation of [`randint()`](https://docs.scipy.org/doc/numpy/reference/generated/numpy.random.randint.html) function and create a list of random integers between 10 and 20. The size of the array should be 50. Store the results to a variable `x` and display it."
   ]
  },
  {
   "cell_type": "code",
   "execution_count": 27,
   "metadata": {
    "collapsed": false
   },
   "outputs": [
    {
     "data": {
      "text/plain": [
       "array([13, 13, 11, 14, 15, 10, 20, 12, 10, 12, 17, 12, 19, 14, 16, 18, 15,\n",
       "       11, 19, 15, 20, 13, 16, 10, 16, 19, 11, 17, 17, 19, 12, 18, 20, 13,\n",
       "       10, 17, 13, 10, 12, 13, 19, 19, 13, 11, 11, 13, 12, 15, 19, 12])"
      ]
     },
     "execution_count": 27,
     "metadata": {},
     "output_type": "execute_result"
    }
   ],
   "source": [
    "x = rnd.randint(low = 10, high = 21, size = 50)\n",
    "x"
   ]
  },
  {
   "cell_type": "markdown",
   "metadata": {},
   "source": [
    "What if we want to count how many times each value was presented in the array and make a histogram plot of them? \n",
    "\n",
    "Then we use [`hist`](http://matplotlib.org/api/pyplot_api.html) function from `matplotlib` library. Study the documentation of  that function (click the previous link and search for hist) and create a histogram of the values of `x`. Add also `xlabel(\"Value of x\")` and `ylabel(\"Frequency (#)\")` to your graph."
   ]
  },
  {
   "cell_type": "code",
   "execution_count": 35,
   "metadata": {
    "collapsed": false
   },
   "outputs": [
    {
     "data": {
      "text/plain": [
       "<matplotlib.text.Text at 0x1eaae76c710>"
      ]
     },
     "execution_count": 35,
     "metadata": {},
     "output_type": "execute_result"
    },
    {
     "data": {
      "image/png": "[encoded data removed]",
      "text/plain": [
       "<matplotlib.figure.Figure at 0x1eaae69b860>"
      ]
     },
     "metadata": {},
     "output_type": "display_data"
    }
   ],
   "source": [
    "hist(x, bins = arange(9.5, 20.6))\n",
    "xlabel(\"Value of x\")\n",
    "ylabel(\"Frequency (#)\")"
   ]
  },
  {
   "cell_type": "markdown",
   "metadata": {},
   "source": [
    "If you store the output of the hist function, like `out = hist(<your code comes here>)` what does `out` contain?"
   ]
  },
  {
   "cell_type": "code",
   "execution_count": 37,
   "metadata": {
    "collapsed": false
   },
   "outputs": [
    {
     "data": {
      "text/plain": [
       "(array([ 5.,  5.,  7.,  8.,  2.,  4.,  3.,  4.,  2.,  7.,  3.]),\n",
       " array([  9.5,  10.5,  11.5,  12.5,  13.5,  14.5,  15.5,  16.5,  17.5,\n",
       "         18.5,  19.5,  20.5]),\n",
       " <a list of 11 Patch objects>)"
      ]
     },
     "execution_count": 37,
     "metadata": {},
     "output_type": "execute_result"
    },
    {
     "data": {
      "image/png": "[encoded data removed]",
      "text/plain": [
       "<matplotlib.figure.Figure at 0x1eac6475e48>"
      ]
     },
     "metadata": {},
     "output_type": "display_data"
    }
   ],
   "source": [
    "out = hist(x, bins = arange(9.5, 20.6))\n",
    "out\n",
    "# out contains the values of the histogram bins, the edges of the bins and list of patches"
   ]
  },
  {
   "cell_type": "markdown",
   "metadata": {},
   "source": [
    "### Exercise 1. Histogram of random integers\n",
    "Create an array of 1000 random integer numbers in range 0..20 and make a histogram plot of the distribution. Use as many [bins](http://stackoverflow.com/questions/6986986/bin-size-in-matplotlib-histogram) as you have the values in your dataset. Think how the bins should divided in order that each different value drop into own bin."
   ]
  },
  {
   "cell_type": "code",
   "execution_count": 10,
   "metadata": {
    "collapsed": false
   },
   "outputs": [
    {
     "data": {
      "text/plain": [
       "<matplotlib.text.Text at 0x1eaae5018d0>"
      ]
     },
     "execution_count": 10,
     "metadata": {},
     "output_type": "execute_result"
    },
    {
     "data": {
      "image/png": "[encoded data removed]",
      "text/plain": [
       "<matplotlib.figure.Figure at 0x1eaae4879b0>"
      ]
     },
     "metadata": {},
     "output_type": "display_data"
    }
   ],
   "source": [
    "x = rnd.randint(low = 0, high = 21, size = 1000)\n",
    "\n",
    "plt.hist(x, bins = bincount(x).size)\n",
    "plt.xlim(0,20)\n",
    "xlabel(\"Value of x\")\n",
    "ylabel(\"Frequency (#)\")"
   ]
  },
  {
   "cell_type": "markdown",
   "metadata": {},
   "source": [
    "### Exercise 2. Flattening the  histogram\n",
    "\n",
    "Increase the size of the array in previous exercise. Explore different values. Make several graphs of the histograms and compare them. How many random numbers are needed in order that the histogram looks [flat and evenly distributed](https://www.google.fi/search?q=flat+histogram&tbm=isch&tbo=u&source=univ&sa=X&ved=0ahUKEwjl1_WDjMDTAhUGKpoKHUKpCJcQsAQIIQ&biw=1680&bih=920#imgrc=UktM8JjhJg2hVM:)?"
   ]
  },
  {
   "cell_type": "code",
   "execution_count": 11,
   "metadata": {
    "collapsed": false
   },
   "outputs": [
    {
     "data": {
      "text/plain": [
       "<matplotlib.text.Text at 0x1eaae5a50b8>"
      ]
     },
     "execution_count": 11,
     "metadata": {},
     "output_type": "execute_result"
    },
    {
     "data": {
      "image/png": "[encoded data removed]",
      "text/plain": [
       "<matplotlib.figure.Figure at 0x1eaae53e748>"
      ]
     },
     "metadata": {},
     "output_type": "display_data"
    }
   ],
   "source": [
    "x = rnd.randint(low = 0, high = 21, size = 100000000)\n",
    "\n",
    "plt.hist(x, bins = bincount(x).size)\n",
    "plt.xlim(0,20)\n",
    "xlabel(\"Value of x\")\n",
    "ylabel(\"Frequency (#)\")"
   ]
  },
  {
   "cell_type": "markdown",
   "metadata": {},
   "source": [
    "## Two-valued random numbers\n",
    "\n",
    "In this second part we create two-valued random numbers. Study [choice](https://docs.scipy.org/doc/numpy/reference/generated/numpy.random.choice.html#numpy.random.choice) function from `numpy.random` module. Write a code that randomly selects either 'A' or 'B'."
   ]
  },
  {
   "cell_type": "code",
   "execution_count": 12,
   "metadata": {
    "collapsed": false
   },
   "outputs": [
    {
     "data": {
      "text/plain": [
       "'A'"
      ]
     },
     "execution_count": 12,
     "metadata": {},
     "output_type": "execute_result"
    }
   ],
   "source": [
    "rnd.choice(['A', 'B'])"
   ]
  },
  {
   "cell_type": "markdown",
   "metadata": {},
   "source": [
    "Now let's create a coin flipping experiment. Using the `choice` function create randomly selected values between 'head' or 'tail'. Store the results into an array `coins` and display the values."
   ]
  },
  {
   "cell_type": "code",
   "execution_count": 13,
   "metadata": {
    "collapsed": false
   },
   "outputs": [
    {
     "data": {
      "text/plain": [
       "array(['head', 'head', 'head', 'tail', 'head', 'tail', 'tail', 'head',\n",
       "       'head', 'head'], \n",
       "      dtype='<U4')"
      ]
     },
     "execution_count": 13,
     "metadata": {},
     "output_type": "execute_result"
    }
   ],
   "source": [
    "coins = rnd.choice(['head', 'tail'], 10)\n",
    "coins"
   ]
  },
  {
   "cell_type": "markdown",
   "metadata": {},
   "source": [
    "You can test if any of the elements in the array has value 'head' by the following:\n",
    "\n",
    "    coin == 'head'\n",
    "\n",
    "Try it now here to your `coin` data."
   ]
  },
  {
   "cell_type": "code",
   "execution_count": 14,
   "metadata": {
    "collapsed": false
   },
   "outputs": [
    {
     "data": {
      "text/plain": [
       "array([ True,  True,  True, False,  True, False, False,  True,  True,  True], dtype=bool)"
      ]
     },
     "execution_count": 14,
     "metadata": {},
     "output_type": "execute_result"
    }
   ],
   "source": [
    "coins == 'head'"
   ]
  },
  {
   "cell_type": "markdown",
   "metadata": {},
   "source": [
    "We can count how many 'head's we got using the code `sum(coin == 'head')`. Find out how many times did you get 'head's in your 10 times of coin flipping experiment."
   ]
  },
  {
   "cell_type": "code",
   "execution_count": 15,
   "metadata": {
    "collapsed": false
   },
   "outputs": [
    {
     "data": {
      "text/plain": [
       "7"
      ]
     },
     "execution_count": 15,
     "metadata": {},
     "output_type": "execute_result"
    }
   ],
   "source": [
    "sum(coins == 'head')"
   ]
  },
  {
   "cell_type": "markdown",
   "metadata": {},
   "source": [
    "### Exercise 3. Flipping the coin 100 times\n",
    "If we flip the coin 100 times, how many times we get 'head'? Is it always the same number?"
   ]
  },
  {
   "cell_type": "code",
   "execution_count": 38,
   "metadata": {
    "collapsed": false
   },
   "outputs": [
    {
     "data": {
      "text/plain": [
       "48"
      ]
     },
     "execution_count": 38,
     "metadata": {},
     "output_type": "execute_result"
    }
   ],
   "source": [
    "coins = rnd.choice(['head', 'tail'], 100)\n",
    "\n",
    "sum(coins == 'head') # not always same number"
   ]
  },
  {
   "cell_type": "markdown",
   "metadata": {},
   "source": [
    "### Exercise 4. Repeating the experiment\n",
    "\n",
    "Repeat the coin flipping experiment done in previous exercise several times, let's say make 1000 repetitions. Count on each round how many times you got 'head' and store the sum of the heads into a new variable. Name this variable as `sum_of_heads`. Make a histogram how `sum_of_heads` variates. What do you observe?\n",
    "\n",
    "Tip. Use the code of previous exercise and add a for-loop around the simulation. Check the [Loops and if/else statements](https://docs.python.org/3/tutorial/controlflow.html) for more details, if you feel uncertain how to use for-loop."
   ]
  },
  {
   "cell_type": "code",
   "execution_count": 17,
   "metadata": {
    "collapsed": false
   },
   "outputs": [
    {
     "data": {
      "text/plain": [
       "<matplotlib.text.Text at 0x1eac63d5198>"
      ]
     },
     "execution_count": 17,
     "metadata": {},
     "output_type": "execute_result"
    },
    {
     "data": {
      "image/png": "[encoded data removed]",
      "text/plain": [
       "<matplotlib.figure.Figure at 0x1eac639ad68>"
      ]
     },
     "metadata": {},
     "output_type": "display_data"
    }
   ],
   "source": [
    "sum_of_heads = []\n",
    "for i in range(1000):\n",
    "    coins = rnd.choice(['head', 'tail'], 100)\n",
    "    sum_of_heads.append(sum(coins == 'head')) \n",
    "\n",
    "plt.hist(sum_of_heads)\n",
    "xlabel(\"Number of heads\")\n",
    "ylabel(\"Frequency (#)\")"
   ]
  },
  {
   "cell_type": "markdown",
   "metadata": {},
   "source": [
    "## Cumulative sum"
   ]
  },
  {
   "cell_type": "markdown",
   "metadata": {},
   "source": [
    "If we have an array of numbers, we can calculate the cumulative sum of them using `numpy.cumsum()` function. For example, try the following code:\n",
    "\n",
    "    x = array([1, 0, 2, 3, 1])\n",
    "    s = cumsum(x)\n",
    "    print(s)"
   ]
  },
  {
   "cell_type": "code",
   "execution_count": 18,
   "metadata": {
    "collapsed": false
   },
   "outputs": [
    {
     "name": "stdout",
     "output_type": "stream",
     "text": [
      "[1 1 3 6 7]\n"
     ]
    }
   ],
   "source": [
    "x = array([1, 0, 2, 3, 1])\n",
    "s = cumsum(x)\n",
    "print(s)"
   ]
  },
  {
   "cell_type": "markdown",
   "metadata": {},
   "source": [
    "In the first element of the results variable `s` we have the value of the first element of `x`,  and in the following elements we add one-by-one the next values. As the final result the cumulative sum is calculated as:\n",
    "> [1, (1 + 0), (1 + 0 + 2), (1 + 0 + 2 + 3), (1 + 0 + 2 + 3 + 1)] = [1 1 3 6 7]"
   ]
  },
  {
   "cell_type": "markdown",
   "metadata": {},
   "source": [
    "What if we have True-False data as the input? Try the following:\n",
    "\n",
    "    x = np([True, False, True, True, False])\n",
    "    s = cumsum(x)\n",
    "    print(s)\n"
   ]
  },
  {
   "cell_type": "code",
   "execution_count": 19,
   "metadata": {
    "collapsed": false
   },
   "outputs": [
    {
     "name": "stdout",
     "output_type": "stream",
     "text": [
      "[1 1 2 3 3]\n"
     ]
    }
   ],
   "source": [
    "x = np.array([True, False, True, True, False])\n",
    "s = cumsum(x)\n",
    "print(s)"
   ]
  },
  {
   "cell_type": "markdown",
   "metadata": {},
   "source": [
    "The cumsum counts each `True` value as `1` and `False` as `0`:\n",
    "> [1, (1 + 0), (1 + 0 + 1), (1 + 0 + 1 + 1), (1 + 0 + 1 + 1 + 0)] = [1 1 2 3 3]"
   ]
  },
  {
   "cell_type": "markdown",
   "metadata": {},
   "source": [
    "Let's flip the coin (again) and see how the number of 'head's changes over the time of flipping using the `cumsum` function. Run the following code."
   ]
  },
  {
   "cell_type": "code",
   "execution_count": 20,
   "metadata": {
    "collapsed": false
   },
   "outputs": [
    {
     "data": {
      "image/png": "[encoded data removed]",
      "text/plain": [
       "<matplotlib.figure.Figure at 0x1eac644b358>"
      ]
     },
     "metadata": {},
     "output_type": "display_data"
    }
   ],
   "source": [
    "import numpy.random as rnd\n",
    "\n",
    "N = 50\n",
    "coin = rnd.choice(['head', 'tail'], N)\n",
    "\n",
    "# Calculate cumulative sum of heads\n",
    "s = cumsum(coin == 'head')\n",
    "\n",
    "# Index = how many times we have flipped the coin so far\n",
    "i = arange(len(s)) + 1\n",
    "\n",
    "# Make a graph of the cumulative sum of heads\n",
    "plot(i, s)\n",
    "grid()\n",
    "xlabel('Number of times coin was flipped')\n",
    "ylabel('Number of times we got heads');"
   ]
  },
  {
   "cell_type": "markdown",
   "metadata": {},
   "source": [
    "It seems that the number of heads is increasing almost at the half rate of the number of flips. That can be seen in the graph (for example when x-value is 20, then y-value is approximately 10, and the slope is about 0.5). \n",
    "\n",
    "How about the propability of getting heads? \n",
    "\n",
    "We can calculate that by dividing the `number_of_times_we_got_head` by the `number_of_times_coin_was_flipped`. This is your next exercise.\n",
    "\n",
    "### Exercise 5. Probability of getting head in flipping a coin experiment\n",
    "\n",
    "Flip the coin 1000 times and calculate the cumulative sum of the heads. Create a second array, index variable, that contains the information how many times the coin was flipped (see the previous example code). Divide these two arrays to get the probability of heads over the number of flippings. Make a graph how the `probability_of_getting_hds` is changing when the `number_of_times coin_was_flipped` increases."
   ]
  },
  {
   "cell_type": "code",
   "execution_count": 21,
   "metadata": {
    "collapsed": false
   },
   "outputs": [
    {
     "data": {
      "image/png": "[encoded data removed]",
      "text/plain": [
       "<matplotlib.figure.Figure at 0x1eaae5e07f0>"
      ]
     },
     "metadata": {},
     "output_type": "display_data"
    }
   ],
   "source": [
    "N = 1000\n",
    "coin = rnd.choice(['head', 'tail'], N)\n",
    "\n",
    "# Calculate cumulative sum of heads\n",
    "s = cumsum(coin == 'head')\n",
    "\n",
    "# Index = how many times we have flipped the coin so far\n",
    "i = arange(len(s)) + 1\n",
    "\n",
    "probability_of_getting_hds = s / i\n",
    "# Make a graph of the cumulative sum of heads\n",
    "plot(i, probability_of_getting_hds)\n",
    "grid()\n",
    "xlabel('Number of times coin was flipped')\n",
    "ylabel('Probability we got heads');\n",
    "\n"
   ]
  },
  {
   "cell_type": "markdown",
   "metadata": {},
   "source": [
    "Based on that graph, estimate roughly how many times do you need to flip the coin before the probability stabilizes around the value of 0.5."
   ]
  },
  {
   "cell_type": "raw",
   "metadata": {},
   "source": [
    "Your answer: 200"
   ]
  },
  {
   "cell_type": "markdown",
   "metadata": {},
   "source": [
    "### (Bonus) Exercise. Repeating the probability run\n",
    "\n",
    "Make a loop that repeats the previous exercise of making the graph of probability several times. Draw the repetitions into the same graph, where each repetition is plotted overlayed each other. \n",
    "\n",
    "How does that graphics look like? How many times we need to flip the coin before we can say that the probability is about 0.5 to get the head?"
   ]
  },
  {
   "cell_type": "code",
   "execution_count": 22,
   "metadata": {
    "collapsed": false,
    "scrolled": true
   },
   "outputs": [
    {
     "data": {
      "image/png": "[encoded data removed]",
      "text/plain": [
       "<matplotlib.figure.Figure at 0x1eaae6560b8>"
      ]
     },
     "metadata": {},
     "output_type": "display_data"
    }
   ],
   "source": [
    "figure()\n",
    "grid()\n",
    "xlabel('Number of times coin was flipped')\n",
    "ylabel('Probability we got heads');\n",
    "\n",
    "for i in range(100):\n",
    "    N = 1000\n",
    "    coin = rnd.choice(['head', 'tail'], N)\n",
    "\n",
    "    # Calculate cumulative sum of heads\n",
    "    s = cumsum(coin == 'head')\n",
    "\n",
    "    # Index = how many times we have flipped the coin so far\n",
    "    i = arange(len(s)) + 1\n",
    "\n",
    "    probability_of_getting_hds = s / i\n",
    "    # Make a graph of the cumulative sum of heads\n",
    "    plot(i, probability_of_getting_hds)\n",
    "    \n"
   ]
  },
  {
   "cell_type": "markdown",
   "metadata": {},
   "source": [
    "we need to flip the coin about 400 times"
   ]
  },
  {
   "cell_type": "markdown",
   "metadata": {},
   "source": [
    "## Averaging random numbers\n",
    "\n",
    "In this exercise we continue flipping the coin. Now we want to calculate the average value of heads. For this exercise you need the code from previous ones."
   ]
  },
  {
   "cell_type": "markdown",
   "metadata": {},
   "source": [
    "Let's assume that you have repeated the 100 coin flipping experiment 10 times and got the following numbers of heads on each run."
   ]
  },
  {
   "cell_type": "code",
   "execution_count": 23,
   "metadata": {
    "collapsed": false
   },
   "outputs": [],
   "source": [
    "s = [ 55,  56,  45,  51,  52,  52,  52,  55,  51,  56]"
   ]
  },
  {
   "cell_type": "markdown",
   "metadata": {},
   "source": [
    "What are the average and standard deviation of these numbers?\n",
    "\n",
    "Tip: Search help for `np.mean` and `np.std`."
   ]
  },
  {
   "cell_type": "code",
   "execution_count": 24,
   "metadata": {
    "collapsed": false
   },
   "outputs": [
    {
     "name": "stdout",
     "output_type": "stream",
     "text": [
      "mean 52.5\n",
      "standard deviation 3.1384709653\n"
     ]
    }
   ],
   "source": [
    "print('mean', np.mean(s))\n",
    "print('standard deviation', np.std(s))"
   ]
  },
  {
   "cell_type": "markdown",
   "metadata": {},
   "source": [
    "### Exercise 6. Average and standard deviation of flipping the coin\n",
    "\n",
    "Use the code of exercise 4 here again. Change and explore the number of coin flippings you are summing up and number of times  you loop the experiment. Draw histograms and calculate the average and standard deviation of each simulation.\n",
    "\n",
    "How do the average and standard deviation of the sum of heads depend on the number of times the coin was flipped and the number of times the experiment was repeated?"
   ]
  },
  {
   "cell_type": "code",
   "execution_count": 25,
   "metadata": {
    "collapsed": false
   },
   "outputs": [
    {
     "name": "stdout",
     "output_type": "stream",
     "text": [
      "Mean 500.20\n",
      "Standard deviation 15.88\n"
     ]
    },
    {
     "data": {
      "text/plain": [
       "<matplotlib.text.Text at 0x1eaae80a0f0>"
      ]
     },
     "execution_count": 25,
     "metadata": {},
     "output_type": "execute_result"
    },
    {
     "data": {
      "image/png": "[encoded data removed]",
      "text/plain": [
       "<matplotlib.figure.Figure at 0x1eaae66c978>"
      ]
     },
     "metadata": {},
     "output_type": "display_data"
    }
   ],
   "source": [
    "heads = []\n",
    "\n",
    "for i in range(1000):\n",
    "    N = 1000\n",
    "    coin = rnd.choice(['head', 'tail'], N)\n",
    "\n",
    "    # Calculate cumulative sum of heads\n",
    "    s = cumsum(coin == 'head')\n",
    "    heads.append(s[N - 1])\n",
    "    # Index = how many times we have flipped the coin so far\n",
    "    i = arange(len(s)) + 1\n",
    "\n",
    "    probability_of_getting_hds = s / i\n",
    "    # Make a graph of the cumulative sum of heads\n",
    "#     plot(i, probability_of_getting_hds)\n",
    "#     print('mean', np.mean(s))\n",
    "#     print('standard deviation', np.std(s))\n",
    "\n",
    "print('Mean {:.2f}'.format(np.mean(heads)))\n",
    "print('Standard deviation {:.2f}'.format(np.std(heads)))\n",
    "\n",
    "hist(heads)\n",
    "grid()\n",
    "xlabel(\"Number of heads\")\n",
    "ylabel(\"Frequency (#)\")"
   ]
  },
  {
   "cell_type": "markdown",
   "metadata": {},
   "source": [
    "the number of times the coin was flipped increases => average and standard deviation of the sum of heads increases\n",
    "the number of times the experiment was repeated increases => average around N/2 and standard deviation decreases "
   ]
  }
 ],
 "metadata": {
  "kernelspec": {
   "display_name": "Python [Root]",
   "language": "python",
   "name": "Python [Root]"
  },
  "language_info": {
   "codemirror_mode": {
    "name": "ipython",
    "version": 3
   },
   "file_extension": ".py",
   "mimetype": "text/x-python",
   "name": "python",
   "nbconvert_exporter": "python",
   "pygments_lexer": "ipython3",
   "version": "3.5.2"
  }
 },
 "nbformat": 4,
 "nbformat_minor": 0
}
