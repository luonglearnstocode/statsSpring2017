{
 "cells": [
  {
   "cell_type": "markdown",
   "metadata": {},
   "source": [
    "# Home assignment 1 - Luong Nguyen\n",
    "Probability and Statistics   \n",
    "CC BY-NC-SA, Sakari Lukkarinen   \n",
    "Helsinki Metropolia University of Applied Sciences"
   ]
  },
  {
   "cell_type": "code",
   "execution_count": 2,
   "metadata": {
    "collapsed": false
   },
   "outputs": [
    {
     "name": "stdout",
     "output_type": "stream",
     "text": [
      "Populating the interactive namespace from numpy and matplotlib\n"
     ]
    }
   ],
   "source": [
    "%pylab inline\n",
    "from numpy.random import randint"
   ]
  },
  {
   "cell_type": "markdown",
   "metadata": {},
   "source": [
    "## Theoretical values"
   ]
  },
  {
   "cell_type": "markdown",
   "metadata": {},
   "source": [
    "The goal is to compute the probability that at least two people in the room have the same birthday. Let's denote that $P(A)$. However, it is much easier to calculate the probability, that no two persons have the same birthday, e.g. $P(A')$. As these two probabilities are mutually exclusive, we can write $P(A) = 1- P(A')$.\n",
    "\n",
    "$P(A')$ can be calculated iteratively:\n",
    "$$P(A') = \\frac{365}{365} \\times \\frac{364}{365} \\times \\frac{363}{365} \\times ... \\frac{365 - N + 1}{365}$$\n",
    "\n",
    "where $N$ is the number of persons in the same room. \n",
    "\n",
    "First write a code that iteratively calculates the propabilities of $P(A')$ and stores the results into an array `P2`"
   ]
  },
  {
   "cell_type": "code",
   "execution_count": 3,
   "metadata": {
    "collapsed": false
   },
   "outputs": [],
   "source": [
    "N = 100\n",
    "\n",
    "def p(n): # probability that no person shares the same birthday\n",
    "    result = 1.0\n",
    "    for i in range(n):\n",
    "        result *= (365.0 - i) / 365\n",
    "    return result\n",
    "\n",
    "P2 = np.array([p(i) for i in range(N)])"
   ]
  },
  {
   "cell_type": "markdown",
   "metadata": {},
   "source": [
    "Now you can calculate the $P(A)$ values by using the mutually exclusive rule. Store the results into an array `P1`."
   ]
  },
  {
   "cell_type": "code",
   "execution_count": 6,
   "metadata": {
    "collapsed": false
   },
   "outputs": [],
   "source": [
    "P1 = 1 - P2"
   ]
  },
  {
   "cell_type": "markdown",
   "metadata": {},
   "source": [
    "Lastly you can make a graphical plot of $P(A)$ (array `P1`) against the number of persons in the room and study how can you interpret the results."
   ]
  },
  {
   "cell_type": "code",
   "execution_count": 15,
   "metadata": {
    "collapsed": false,
    "scrolled": true
   },
   "outputs": [
    {
     "data": {
      "image/png": "[encoded data removed]",
      "text/plain": [
       "<matplotlib.figure.Figure at 0x25345b7be10>"
      ]
     },
     "metadata": {},
     "output_type": "display_data"
    }
   ],
   "source": [
    "figure()\n",
    "plot(P1)\n",
    "grid()\n",
    "axhline(0.5, color = 'r')\n",
    "xlabel('Number of people in the room')\n",
    "ylabel('Probability that at least 2 people share the same birthday')\n",
    "show()"
   ]
  },
  {
   "cell_type": "markdown",
   "metadata": {},
   "source": [
    "Based on the graph, estimate how many persons are needed that the probability is 0.5 for that at least two persons have the same birthday."
   ]
  },
  {
   "cell_type": "raw",
   "metadata": {},
   "source": [
    "Your answer: 23"
   ]
  },
  {
   "cell_type": "markdown",
   "metadata": {},
   "source": [
    "## Using random values\n",
    "\n",
    "Next your task is to use random integers for the same task - calculating the probabilities of the birthday problem. \n",
    "\n",
    "You can use `numpy.random.randint()` function to generate random numbers between 1 and 365. Try that here."
   ]
  },
  {
   "cell_type": "code",
   "execution_count": 20,
   "metadata": {
    "collapsed": false
   },
   "outputs": [
    {
     "data": {
      "text/plain": [
       "339"
      ]
     },
     "execution_count": 20,
     "metadata": {},
     "output_type": "execute_result"
    }
   ],
   "source": [
    "randint(low = 1, high = 366)"
   ]
  },
  {
   "cell_type": "markdown",
   "metadata": {},
   "source": [
    "Then you can use [`numpy.unique()`](https://docs.scipy.org/doc/numpy/reference/generated/numpy.unique.html) function to find the unique values in an array. Create, for example, 20 random numbers between 1 and 365 and find how many unique values do you have in the array."
   ]
  },
  {
   "cell_type": "code",
   "execution_count": 26,
   "metadata": {
    "collapsed": false
   },
   "outputs": [
    {
     "name": "stdout",
     "output_type": "stream",
     "text": [
      "number of unique values: 18\n"
     ]
    }
   ],
   "source": [
    "x = randint(low = 1, high = 366, size = 20)\n",
    "print('number of unique values:', np.unique(x).size)"
   ]
  },
  {
   "cell_type": "markdown",
   "metadata": {},
   "source": [
    "If you compare the number of unique values to the number of total values in the array, you can create a test if all the numbers are unique. Write a code that makes that test and gives a result of either `True` or `False`. `True` means that all numbers were unique and `False` that some of the values were similar."
   ]
  },
  {
   "cell_type": "code",
   "execution_count": 59,
   "metadata": {
    "collapsed": false
   },
   "outputs": [
    {
     "data": {
      "text/plain": [
       "False"
      ]
     },
     "execution_count": 59,
     "metadata": {},
     "output_type": "execute_result"
    }
   ],
   "source": [
    "def checkUnique(n):\n",
    "    '''\n",
    "    Return if all n numbers are unique\n",
    "    '''\n",
    "    x = randint(low = 1, high = 366, size = n)\n",
    "    return np.unique(x).size == x.size\n",
    "\n",
    "checkUnique(200)"
   ]
  },
  {
   "cell_type": "markdown",
   "metadata": {},
   "source": [
    "Now write a code where you can change the number of persons within the same room. Use random integers to select a birthday for each person and test if all birthdays are unique or not. Write a loop that repeats that test several times and collect how many times the birthdays were unique."
   ]
  },
  {
   "cell_type": "code",
   "execution_count": 65,
   "metadata": {
    "collapsed": false
   },
   "outputs": [
    {
     "data": {
      "text/plain": [
       "64"
      ]
     },
     "execution_count": 65,
     "metadata": {},
     "output_type": "execute_result"
    }
   ],
   "source": [
    "def checkUniques(iteration, n):\n",
    "    '''\n",
    "    iteration: number of iterations\n",
    "    n: number of people in the room\n",
    "    Return the number of times that all n numbers are unique from the iterations \n",
    "    '''\n",
    "    return np.sum(np.array([checkUnique(n) for i in range(iteration)]))\n",
    "\n",
    "checkUniques(100, 20)"
   ]
  },
  {
   "cell_type": "markdown",
   "metadata": {},
   "source": [
    "Now it is time to combine all and write a Python code that by generating random integers several thousands of times and collecting the data for several numbers of persons, $N$, estimates the probability curve of $P(A)$. Store the results into a variable `P1_random`."
   ]
  },
  {
   "cell_type": "code",
   "execution_count": 66,
   "metadata": {
    "collapsed": false
   },
   "outputs": [
    {
     "data": {
      "image/png": "[encoded data removed]",
      "text/plain": [
       "<matplotlib.figure.Figure at 0x25345c2df60>"
      ]
     },
     "metadata": {},
     "output_type": "display_data"
    }
   ],
   "source": [
    "N = 100 # number of persons\n",
    "\n",
    "def p(iteration, n): \n",
    "    '''\n",
    "    iteration: number of iterations\n",
    "    n: number of people in the room\n",
    "    return probability that no person shares the same birthday\n",
    "    '''\n",
    "    return 1.0 * checkUniques(iteration, n) / iteration  \n",
    "\n",
    "# probability that at least 2 people share the same birthday\n",
    "P1_random = 1 - np.array([p(10000, n) for n in range(N)])\n",
    "\n",
    "figure()\n",
    "plot(P1_random)\n",
    "grid()\n",
    "axhline(0.5, color = 'r')\n",
    "xlabel('Number of people in the room')\n",
    "ylabel('Probability that at least 2 people share the same birthday')\n",
    "show()"
   ]
  },
  {
   "cell_type": "markdown",
   "metadata": {
    "collapsed": false
   },
   "source": [
    "## Comparison of the theoretical values to random simulation\n",
    "\n",
    "Lastly compare the results of the theoretical values (`P1`) to those you created by generating random numbers (`P1_random`). Create a graph where you draw both the theoretical probabilities and the values calculated by using random numbers for the birthday problem. How much is the difference between these two graphs?"
   ]
  },
  {
   "cell_type": "code",
   "execution_count": 64,
   "metadata": {
    "collapsed": false
   },
   "outputs": [
    {
     "data": {
      "image/png": "[encoded data removed]",
      "text/plain": [
       "<matplotlib.figure.Figure at 0x25345bcb320>"
      ]
     },
     "metadata": {},
     "output_type": "display_data"
    }
   ],
   "source": [
    "figure()\n",
    "plot(P1, 'b', label='P1')\n",
    "plot(P1_random, 'g', label='P1_random')\n",
    "grid()\n",
    "axhline(0.5, color = 'r')\n",
    "xlabel('Number of people in the room')\n",
    "ylabel('Probability that at least 2 people share the same birthday')\n",
    "legend()\n",
    "show()"
   ]
  },
  {
   "cell_type": "markdown",
   "metadata": {},
   "source": [
    "The 2 graphs are similar to each other. If we increase the number of iterations when we calculated P1_random, the difference of the 2 graphs will become smaller."
   ]
  }
 ],
 "metadata": {
  "kernelspec": {
   "display_name": "Python [Root]",
   "language": "python",
   "name": "Python [Root]"
  },
  "language_info": {
   "codemirror_mode": {
    "name": "ipython",
    "version": 3
   },
   "file_extension": ".py",
   "mimetype": "text/x-python",
   "name": "python",
   "nbconvert_exporter": "python",
   "pygments_lexer": "ipython3",
   "version": "3.5.2"
  }
 },
 "nbformat": 4,
 "nbformat_minor": 0
}
