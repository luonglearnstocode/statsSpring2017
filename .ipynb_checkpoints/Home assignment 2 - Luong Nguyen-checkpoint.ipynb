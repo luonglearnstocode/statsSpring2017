{
 "cells": [
  {
   "cell_type": "markdown",
   "metadata": {},
   "source": [
    "# Home assignment 2 - Luong Nguyen\n",
    "Probability and Statistics   \n",
    "CC BY-NC-SA, Sakari Lukkarinen   \n",
    "Helsinki Metropolia University of Applied Sciences"
   ]
  },
  {
   "cell_type": "code",
   "execution_count": 1,
   "metadata": {
    "collapsed": false
   },
   "outputs": [
    {
     "name": "stdout",
     "output_type": "stream",
     "text": [
      "Populating the interactive namespace from numpy and matplotlib\n"
     ]
    }
   ],
   "source": [
    "%pylab inline\n",
    "import numpy.random as random\n",
    "import scipy.stats as stats\n",
    "import pandas as pd"
   ]
  },
  {
   "cell_type": "markdown",
   "metadata": {},
   "source": [
    "## Reliability analysis\n",
    "\n",
    "The goal of this home assignment is to get familiar with reliability analysis of electronic devices. Common way to define the reliability of electronic devices is to measure the [Mean Time Before Failure (MTBF)](https://en.wikipedia.org/wiki/Mean_time_between_failures), which typically follows [the exponential distribution](https://en.wikipedia.org/wiki/Exponential_distribution).\n",
    "\n",
    "<img src=\"https://upload.wikimedia.org/wikipedia/commons/thumb/e/ec/Exponential_pdf.svg/488px-Exponential_pdf.svg.png\" alt=\"Probability density functions for exponential distributions for different expected values ($\\lambda$)\" style=\"Height:200px\">\n",
    "*<center>Figure 1: Probability density functions for exponential distributions.</center>*\n",
    "\n",
    "\n",
    "You can simulate the MTBF by generating random numbers from exponential distribution. For more details how to do that, see for example: [scipy.stats.expon](https://docs.scipy.org/doc/scipy/reference/generated/scipy.stats.expon.html).\n",
    "\n",
    "A real life example data for MTBF analysis can found from Lumio's pages. In [the MTBF report](http://lumio.com/outgoing/Documentation/Certification_Regulation/MTBF_Report.pdf) they have theoretically analyzed the MTBF of their [two sensor optical touch system](http://www.lumio.com/Products/optical-touch.html).\n",
    "\n",
    "Based on the report a sample MTBF data was generated. The data file contains 10,000 rows and 7 columns. You can read the data into Notebook with the following command."
   ]
  },
  {
   "cell_type": "code",
   "execution_count": 2,
   "metadata": {
    "collapsed": false
   },
   "outputs": [
    {
     "data": {
      "text/html": [
       "<div>\n",
       "<table border=\"1\" class=\"dataframe\">\n",
       "  <thead>\n",
       "    <tr style=\"text-align: right;\">\n",
       "      <th></th>\n",
       "      <th>Unnamed: 0</th>\n",
       "      <th>Bar1</th>\n",
       "      <th>Bar2</th>\n",
       "      <th>Bar3</th>\n",
       "      <th>Ledwire</th>\n",
       "      <th>Other</th>\n",
       "      <th>PCB</th>\n",
       "      <th>Sensor1</th>\n",
       "      <th>Sensor2</th>\n",
       "    </tr>\n",
       "  </thead>\n",
       "  <tbody>\n",
       "    <tr>\n",
       "      <th>0</th>\n",
       "      <td>0</td>\n",
       "      <td>47738</td>\n",
       "      <td>16661</td>\n",
       "      <td>89340</td>\n",
       "      <td>35536256</td>\n",
       "      <td>1733151</td>\n",
       "      <td>5089363</td>\n",
       "      <td>118013</td>\n",
       "      <td>706649</td>\n",
       "    </tr>\n",
       "    <tr>\n",
       "      <th>1</th>\n",
       "      <td>1</td>\n",
       "      <td>25224</td>\n",
       "      <td>461960</td>\n",
       "      <td>207892</td>\n",
       "      <td>1288040</td>\n",
       "      <td>602050</td>\n",
       "      <td>6380622</td>\n",
       "      <td>135817</td>\n",
       "      <td>156081</td>\n",
       "    </tr>\n",
       "    <tr>\n",
       "      <th>2</th>\n",
       "      <td>2</td>\n",
       "      <td>264358</td>\n",
       "      <td>78382</td>\n",
       "      <td>34696</td>\n",
       "      <td>1965911</td>\n",
       "      <td>111334</td>\n",
       "      <td>711417</td>\n",
       "      <td>200020</td>\n",
       "      <td>258389</td>\n",
       "    </tr>\n",
       "    <tr>\n",
       "      <th>3</th>\n",
       "      <td>3</td>\n",
       "      <td>173766</td>\n",
       "      <td>60687</td>\n",
       "      <td>19159</td>\n",
       "      <td>5399647</td>\n",
       "      <td>653105</td>\n",
       "      <td>9282464</td>\n",
       "      <td>561615</td>\n",
       "      <td>309686</td>\n",
       "    </tr>\n",
       "    <tr>\n",
       "      <th>4</th>\n",
       "      <td>4</td>\n",
       "      <td>136754</td>\n",
       "      <td>236812</td>\n",
       "      <td>9762</td>\n",
       "      <td>24376764</td>\n",
       "      <td>2499409</td>\n",
       "      <td>265387</td>\n",
       "      <td>700599</td>\n",
       "      <td>496351</td>\n",
       "    </tr>\n",
       "  </tbody>\n",
       "</table>\n",
       "</div>"
      ],
      "text/plain": [
       "   Unnamed: 0    Bar1    Bar2    Bar3   Ledwire    Other      PCB  Sensor1  \\\n",
       "0           0   47738   16661   89340  35536256  1733151  5089363   118013   \n",
       "1           1   25224  461960  207892   1288040   602050  6380622   135817   \n",
       "2           2  264358   78382   34696   1965911   111334   711417   200020   \n",
       "3           3  173766   60687   19159   5399647   653105  9282464   561615   \n",
       "4           4  136754  236812    9762  24376764  2499409   265387   700599   \n",
       "\n",
       "   Sensor2  \n",
       "0   706649  \n",
       "1   156081  \n",
       "2   258389  \n",
       "3   309686  \n",
       "4   496351  "
      ]
     },
     "execution_count": 2,
     "metadata": {},
     "output_type": "execute_result"
    }
   ],
   "source": [
    "df = pd.read_csv('http://users.metropolia.fi/~tommiluk/Notebooks/Statistics/lumio.csv')\n",
    "df.head()"
   ]
  },
  {
   "cell_type": "markdown",
   "metadata": {},
   "source": [
    "### To do\n",
    "\n",
    "1. Draw histograms and calculate the basic descriptive statistics for each component.\n",
    "2. Using `numpy.random.choice` select randomly only 100 samples from each column and calculate the sample mean, standard deviation and standard error for each column.\n",
    "3. Based on the sample mean and standard error calculated in previous task, estimate what is the 95 % confidence interval for the mean MTBF for each component.\n",
    "4. Estimate what is the mean MTBF of the whole system. We assume that if any of the components fails, then the whole system fails. You can model this situation by finding the minimum value for each row of the table and then by making the histogram for the minimum values and calculating the descriptive statistics."
   ]
  },
  {
   "cell_type": "code",
   "execution_count": null,
   "metadata": {
    "collapsed": true
   },
   "outputs": [],
   "source": [
    "df.drop('Unnamed: 0', axis=1, inplace=True)"
   ]
  },
  {
   "cell_type": "code",
   "execution_count": 21,
   "metadata": {
    "collapsed": false
   },
   "outputs": [
    {
     "name": "stdout",
     "output_type": "stream",
     "text": [
      "count    1.000000e+04\n",
      "mean     1.436702e+05\n",
      "std      1.431291e+05\n",
      "min      9.000000e+00\n",
      "25%      4.138550e+04\n",
      "50%      9.897950e+04\n",
      "75%      1.972270e+05\n",
      "max      1.177700e+06\n",
      "Name: Bar1, dtype: float64\n",
      "\n",
      "count    1.000000e+04\n",
      "mean     1.418828e+05\n",
      "std      1.392456e+05\n",
      "min      5.000000e+00\n",
      "25%      4.171975e+04\n",
      "50%      1.001940e+05\n",
      "75%      1.983455e+05\n",
      "max      1.345937e+06\n",
      "Name: Bar2, dtype: float64\n",
      "\n",
      "count    1.000000e+04\n",
      "mean     1.440420e+05\n",
      "std      1.446179e+05\n",
      "min      3.000000e+00\n",
      "25%      4.112525e+04\n",
      "50%      9.949700e+04\n",
      "75%      1.990285e+05\n",
      "max      1.375031e+06\n",
      "Name: Bar3, dtype: float64\n",
      "\n",
      "count    1.000000e+04\n",
      "mean     2.325788e+07\n",
      "std      2.314970e+07\n",
      "min      3.474000e+03\n",
      "25%      6.764800e+06\n",
      "50%      1.616356e+07\n",
      "75%      3.241773e+07\n",
      "max      1.987486e+08\n",
      "Name: Ledwire, dtype: float64\n",
      "\n",
      "count    1.000000e+04\n",
      "mean     1.266864e+06\n",
      "std      1.290932e+06\n",
      "min      1.730000e+02\n",
      "25%      3.609638e+05\n",
      "50%      8.595325e+05\n",
      "75%      1.759768e+06\n",
      "max      1.214497e+07\n",
      "Name: Other, dtype: float64\n",
      "\n",
      "count    1.000000e+04\n",
      "mean     4.500215e+06\n",
      "std      4.561019e+06\n",
      "min      2.510000e+02\n",
      "25%      1.285868e+06\n",
      "50%      3.112773e+06\n",
      "75%      6.158641e+06\n",
      "max      4.526654e+07\n",
      "Name: PCB, dtype: float64\n",
      "\n",
      "count    1.000000e+04\n",
      "mean     6.066229e+05\n",
      "std      6.055939e+05\n",
      "min      0.000000e+00\n",
      "25%      1.732325e+05\n",
      "50%      4.207960e+05\n",
      "75%      8.452835e+05\n",
      "max      5.679563e+06\n",
      "Name: Sensor1, dtype: float64\n",
      "\n",
      "count    1.000000e+04\n",
      "mean     6.133862e+05\n",
      "std      6.048200e+05\n",
      "min      1.600000e+01\n",
      "25%      1.826025e+05\n",
      "50%      4.242965e+05\n",
      "75%      8.685908e+05\n",
      "max      5.560738e+06\n",
      "Name: Sensor2, dtype: float64\n",
      "\n"
     ]
    },
    {
     "data": {
      "image/png": "[encoded data removed]",
      "text/plain": [
       "<matplotlib.figure.Figure at 0x192ae2e6400>"
      ]
     },
     "metadata": {},
     "output_type": "display_data"
    }
   ],
   "source": [
    "# 1 - Draw histograms and calculate the basic descriptive statistics for each component.\n",
    "fig, axes = plt.subplots(4, 2, figsize = (15, 10))\n",
    "i = 0\n",
    "for column in df:\n",
    "    df[column].hist(ax = axes[i // 2, i % 2])\n",
    "    print(df[column].describe())\n",
    "    print()\n",
    "    axes[i // 2, i % 2].set_title(column)\n",
    "    i += 1\n",
    "    \n",
    "fig.subplots_adjust(hspace=0.4)"
   ]
  },
  {
   "cell_type": "code",
   "execution_count": 24,
   "metadata": {
    "collapsed": false
   },
   "outputs": [
    {
     "name": "stdout",
     "output_type": "stream",
     "text": [
      "Bar1\n",
      "\tsample mean 138021.33\n",
      "\tsample standard deviation 164455.8298\n",
      "\tstandard error - standard deviation of sampling distribution of samples mean 16445.583\n",
      "\tconfidence interval for the population mean: from 105787.9874 to 170254.6726\n",
      "Bar2\n",
      "\tsample mean 154476.78\n",
      "\tsample standard deviation 178527.2459\n",
      "\tstandard error - standard deviation of sampling distribution of samples mean 17852.7246\n",
      "\tconfidence interval for the population mean: from 119485.4398 to 189468.1202\n",
      "Bar3\n",
      "\tsample mean 156970.24\n",
      "\tsample standard deviation 171229.5784\n",
      "\tstandard error - standard deviation of sampling distribution of samples mean 17122.9578\n",
      "\tconfidence interval for the population mean: from 123409.2426 to 190531.2374\n",
      "Ledwire\n",
      "\tsample mean 23680068.33\n",
      "\tsample standard deviation 22948916.3412\n",
      "\tstandard error - standard deviation of sampling distribution of samples mean 2294891.6341\n",
      "\tconfidence interval for the population mean: from 19182080.7271 to 28178055.9329\n",
      "Other\n",
      "\tsample mean 1130597.04\n",
      "\tsample standard deviation 1056296.9483\n",
      "\tstandard error - standard deviation of sampling distribution of samples mean 105629.6948\n",
      "\tconfidence interval for the population mean: from 923562.8381 to 1337631.2419\n",
      "PCB\n",
      "\tsample mean 4634562.51\n",
      "\tsample standard deviation 5846865.7094\n",
      "\tstandard error - standard deviation of sampling distribution of samples mean 584686.5709\n",
      "\tconfidence interval for the population mean: from 3488576.831 to 5780548.189\n",
      "Sensor1\n",
      "\tsample mean 668908.75\n",
      "\tsample standard deviation 597129.6165\n",
      "\tstandard error - standard deviation of sampling distribution of samples mean 59712.9617\n",
      "\tconfidence interval for the population mean: from 551871.3452 to 785946.1548\n",
      "Sensor2\n",
      "\tsample mean 639511.4\n",
      "\tsample standard deviation 579353.8601\n",
      "\tstandard error - standard deviation of sampling distribution of samples mean 57935.386\n",
      "\tconfidence interval for the population mean: from 525958.0434 to 753064.7566\n"
     ]
    }
   ],
   "source": [
    "# 2. Using numpy.random.choice select randomly only 100 samples from each column \n",
    "# and calculate the sample mean, standard deviation and standard error for each column.\n",
    "# 3. Based on the sample mean and standard error calculated in previous task, estimate what is the 95 % confidence interval \n",
    "# for the mean MTBF for each component.\n",
    "\n",
    "n = 100\n",
    "\n",
    "for column in df:\n",
    "    sample = np.random.choice(df[column], n)\n",
    "    mean = sample.mean()\n",
    "    std = sample.std()\n",
    "    se = std / sqrt(n)\n",
    "    print(column)\n",
    "    print('\\tsample mean', around(mean, 4))\n",
    "    print('\\tsample standard deviation', around(std, 4))\n",
    "    print('\\tstandard error - standard deviation of sampling distribution of samples mean', around(se, 4))\n",
    "    print('\\tconfidence interval for the population mean: from', around(mean - 1.96 * se, 4), 'to', around(mean + 1.96 * se, 4))"
   ]
  },
  {
   "cell_type": "code",
   "execution_count": 28,
   "metadata": {
    "collapsed": false
   },
   "outputs": [
    {
     "data": {
      "text/plain": [
       "count     10000.000000\n",
       "mean      39860.354200\n",
       "std       39809.389378\n",
       "min           0.000000\n",
       "25%       11682.500000\n",
       "50%       27611.000000\n",
       "75%       55181.500000\n",
       "max      363983.000000\n",
       "dtype: float64"
      ]
     },
     "execution_count": 28,
     "metadata": {},
     "output_type": "execute_result"
    }
   ],
   "source": [
    "# 4 Estimate what is the mean MTBF of the whole system. \n",
    "# You can model this situation by finding the minimum value for each row of the table \n",
    "# and then by making the histogram for the minimum values and calculating the descriptive statistics.\n",
    "\n",
    "minMTBF = df.min(axis=1)\n",
    "minMTBF.describe()"
   ]
  },
  {
   "cell_type": "code",
   "execution_count": 30,
   "metadata": {
    "collapsed": false
   },
   "outputs": [
    {
     "data": {
      "image/png": "[encoded data removed]",
      "text/plain": [
       "<matplotlib.figure.Figure at 0x192ade29ba8>"
      ]
     },
     "metadata": {},
     "output_type": "display_data"
    }
   ],
   "source": [
    "minMTBF.hist();"
   ]
  }
 ],
 "metadata": {
  "kernelspec": {
   "display_name": "Python [Root]",
   "language": "python",
   "name": "Python [Root]"
  },
  "language_info": {
   "codemirror_mode": {
    "name": "ipython",
    "version": 3
   },
   "file_extension": ".py",
   "mimetype": "text/x-python",
   "name": "python",
   "nbconvert_exporter": "python",
   "pygments_lexer": "ipython3",
   "version": "3.5.2"
  }
 },
 "nbformat": 4,
 "nbformat_minor": 0
}
